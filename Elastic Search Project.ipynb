{
 "cells": [
  {
   "attachments": {},
   "cell_type": "markdown",
   "id": "14cbb7f2-e08f-435d-a77e-a2b254022b16",
   "metadata": {},
   "source": [
    "### Importing Necessary Libraries"
   ]
  },
  {
   "cell_type": "code",
   "execution_count": 3,
   "id": "c0fc107c-c061-4d0e-877a-9f1bb818b863",
   "metadata": {
    "tags": []
   },
   "outputs": [],
   "source": [
    "import pandas as pd\n",
    "from elasticsearch import helpers\n",
    "from elasticsearch.helpers import streaming_bulk\n",
    "from elasticsearch import Elasticsearch"
   ]
  },
  {
   "cell_type": "code",
   "execution_count": 4,
   "id": "6d2c64e5-d53d-454b-9bfd-001ec5d6000d",
   "metadata": {
    "tags": []
   },
   "outputs": [
    {
     "data": {
      "text/plain": [
       "Index(['Unnamed: 0', 'rank', 'trend', 'season', 'episode', 'name', 'start',\n",
       "       'total_votes', 'average_rating'],\n",
       "      dtype='object')"
      ]
     },
     "execution_count": 4,
     "metadata": {},
     "output_type": "execute_result"
    }
   ],
   "source": [
    "df = pd.read_csv(\"ONE PIECE.csv\")\n",
    "df.columns"
   ]
  },
  {
   "cell_type": "code",
   "execution_count": 12,
   "id": "8a44b430-ac17-4937-b188-ff7bc95d4c95",
   "metadata": {
    "tags": []
   },
   "outputs": [
    {
     "data": {
      "text/html": [
       "<div>\n",
       "<style scoped>\n",
       "    .dataframe tbody tr th:only-of-type {\n",
       "        vertical-align: middle;\n",
       "    }\n",
       "\n",
       "    .dataframe tbody tr th {\n",
       "        vertical-align: top;\n",
       "    }\n",
       "\n",
       "    .dataframe thead th {\n",
       "        text-align: right;\n",
       "    }\n",
       "</style>\n",
       "<table border=\"1\" class=\"dataframe\">\n",
       "  <thead>\n",
       "    <tr style=\"text-align: right;\">\n",
       "      <th></th>\n",
       "      <th>rank</th>\n",
       "      <th>trend</th>\n",
       "      <th>season</th>\n",
       "      <th>episode</th>\n",
       "      <th>name</th>\n",
       "      <th>start</th>\n",
       "      <th>total_votes</th>\n",
       "      <th>average_rating</th>\n",
       "    </tr>\n",
       "  </thead>\n",
       "  <tbody>\n",
       "    <tr>\n",
       "      <th>0</th>\n",
       "      <td>24,129</td>\n",
       "      <td>18</td>\n",
       "      <td>1</td>\n",
       "      <td>1</td>\n",
       "      <td>I'm Luffy! The Man Who Will Become the Pirate ...</td>\n",
       "      <td>1999</td>\n",
       "      <td>647</td>\n",
       "      <td>7.6</td>\n",
       "    </tr>\n",
       "    <tr>\n",
       "      <th>1</th>\n",
       "      <td>29,290</td>\n",
       "      <td>11</td>\n",
       "      <td>1</td>\n",
       "      <td>2</td>\n",
       "      <td>The Great Swordsman Appears! Pirate Hunter, Ro...</td>\n",
       "      <td>1999</td>\n",
       "      <td>473</td>\n",
       "      <td>7.8</td>\n",
       "    </tr>\n",
       "    <tr>\n",
       "      <th>2</th>\n",
       "      <td>32,043</td>\n",
       "      <td>7</td>\n",
       "      <td>1</td>\n",
       "      <td>3</td>\n",
       "      <td>Morgan vs. Luffy! Who's This Beautiful Young G...</td>\n",
       "      <td>1999</td>\n",
       "      <td>428</td>\n",
       "      <td>7.7</td>\n",
       "    </tr>\n",
       "    <tr>\n",
       "      <th>3</th>\n",
       "      <td>28,818</td>\n",
       "      <td>8</td>\n",
       "      <td>1</td>\n",
       "      <td>4</td>\n",
       "      <td>Luffy's Past! The Red-haired Shanks Appears!</td>\n",
       "      <td>1999</td>\n",
       "      <td>449</td>\n",
       "      <td>8.1</td>\n",
       "    </tr>\n",
       "    <tr>\n",
       "      <th>4</th>\n",
       "      <td>37,113</td>\n",
       "      <td>4</td>\n",
       "      <td>1</td>\n",
       "      <td>5</td>\n",
       "      <td>Fear, Mysterious Power! Pirate Clown Captain B...</td>\n",
       "      <td>1999</td>\n",
       "      <td>370</td>\n",
       "      <td>7.5</td>\n",
       "    </tr>\n",
       "    <tr>\n",
       "      <th>...</th>\n",
       "      <td>...</td>\n",
       "      <td>...</td>\n",
       "      <td>...</td>\n",
       "      <td>...</td>\n",
       "      <td>...</td>\n",
       "      <td>...</td>\n",
       "      <td>...</td>\n",
       "      <td>...</td>\n",
       "    </tr>\n",
       "    <tr>\n",
       "      <th>953</th>\n",
       "      <td>41,448</td>\n",
       "      <td>26</td>\n",
       "      <td>1</td>\n",
       "      <td>954</td>\n",
       "      <td>Its Name is Enma! Oden's Meito!</td>\n",
       "      <td>2020</td>\n",
       "      <td>302</td>\n",
       "      <td>7.7</td>\n",
       "    </tr>\n",
       "    <tr>\n",
       "      <th>954</th>\n",
       "      <td>35,342</td>\n",
       "      <td>44</td>\n",
       "      <td>1</td>\n",
       "      <td>955</td>\n",
       "      <td>&amp;quot;A New Alliance?! Kaido's Army Gathers&amp;quot;</td>\n",
       "      <td>2020</td>\n",
       "      <td>407</td>\n",
       "      <td>7.4</td>\n",
       "    </tr>\n",
       "    <tr>\n",
       "      <th>955</th>\n",
       "      <td>33,715</td>\n",
       "      <td>75</td>\n",
       "      <td>1</td>\n",
       "      <td>956</td>\n",
       "      <td>Ticking Down to the Great Battle! The Straw Ha...</td>\n",
       "      <td>2020</td>\n",
       "      <td>353</td>\n",
       "      <td>8.2</td>\n",
       "    </tr>\n",
       "    <tr>\n",
       "      <th>956</th>\n",
       "      <td>2,940</td>\n",
       "      <td>964</td>\n",
       "      <td>1</td>\n",
       "      <td>957</td>\n",
       "      <td>Big News! The Warlords Attack Incident</td>\n",
       "      <td>2021</td>\n",
       "      <td>2,862</td>\n",
       "      <td>9.1</td>\n",
       "    </tr>\n",
       "    <tr>\n",
       "      <th>957</th>\n",
       "      <td>14,751</td>\n",
       "      <td>-</td>\n",
       "      <td>1</td>\n",
       "      <td>958</td>\n",
       "      <td>&amp;quot;The Legendary Battle! Garp and Roger&amp;quot;</td>\n",
       "      <td>2021</td>\n",
       "      <td>746</td>\n",
       "      <td>9.4</td>\n",
       "    </tr>\n",
       "  </tbody>\n",
       "</table>\n",
       "<p>958 rows × 8 columns</p>\n",
       "</div>"
      ],
      "text/plain": [
       "       rank trend  season  episode  \\\n",
       "0    24,129    18       1        1   \n",
       "1    29,290    11       1        2   \n",
       "2    32,043     7       1        3   \n",
       "3    28,818     8       1        4   \n",
       "4    37,113     4       1        5   \n",
       "..      ...   ...     ...      ...   \n",
       "953  41,448    26       1      954   \n",
       "954  35,342    44       1      955   \n",
       "955  33,715    75       1      956   \n",
       "956   2,940   964       1      957   \n",
       "957  14,751     -       1      958   \n",
       "\n",
       "                                                  name  start total_votes  \\\n",
       "0    I'm Luffy! The Man Who Will Become the Pirate ...   1999         647   \n",
       "1    The Great Swordsman Appears! Pirate Hunter, Ro...   1999         473   \n",
       "2    Morgan vs. Luffy! Who's This Beautiful Young G...   1999         428   \n",
       "3         Luffy's Past! The Red-haired Shanks Appears!   1999         449   \n",
       "4    Fear, Mysterious Power! Pirate Clown Captain B...   1999         370   \n",
       "..                                                 ...    ...         ...   \n",
       "953                    Its Name is Enma! Oden's Meito!   2020         302   \n",
       "954  &quot;A New Alliance?! Kaido's Army Gathers&quot;   2020         407   \n",
       "955  Ticking Down to the Great Battle! The Straw Ha...   2020         353   \n",
       "956             Big News! The Warlords Attack Incident   2021       2,862   \n",
       "957   &quot;The Legendary Battle! Garp and Roger&quot;   2021         746   \n",
       "\n",
       "     average_rating  \n",
       "0               7.6  \n",
       "1               7.8  \n",
       "2               7.7  \n",
       "3               8.1  \n",
       "4               7.5  \n",
       "..              ...  \n",
       "953             7.7  \n",
       "954             7.4  \n",
       "955             8.2  \n",
       "956             9.1  \n",
       "957             9.4  \n",
       "\n",
       "[958 rows x 8 columns]"
      ]
     },
     "execution_count": 12,
     "metadata": {},
     "output_type": "execute_result"
    }
   ],
   "source": [
    "df = df.drop(\"Unnamed: 0\", axis=1)\n",
    "df"
   ]
  },
  {
   "cell_type": "code",
   "execution_count": 13,
   "id": "c01faec4-6976-4019-b16b-147def24de2c",
   "metadata": {
    "tags": []
   },
   "outputs": [
    {
     "data": {
      "text/plain": [
       "Index(['rank', 'trend', 'season', 'episode', 'name', 'start', 'total_votes',\n",
       "       'average_rating'],\n",
       "      dtype='object')"
      ]
     },
     "execution_count": 13,
     "metadata": {},
     "output_type": "execute_result"
    }
   ],
   "source": [
    "df.columns"
   ]
  },
  {
   "cell_type": "code",
   "execution_count": 4,
   "id": "d00ae9b5-12ca-4d35-ae48-0bef9c2d8c5c",
   "metadata": {
    "tags": []
   },
   "outputs": [
    {
     "data": {
      "text/plain": [
       "<bound method DataFrame.info of        rank trend  season  episode  \\\n",
       "0    24,129    18       1        1   \n",
       "1    29,290    11       1        2   \n",
       "2    32,043     7       1        3   \n",
       "3    28,818     8       1        4   \n",
       "4    37,113     4       1        5   \n",
       "..      ...   ...     ...      ...   \n",
       "953  41,448    26       1      954   \n",
       "954  35,342    44       1      955   \n",
       "955  33,715    75       1      956   \n",
       "956   2,940   964       1      957   \n",
       "957  14,751     -       1      958   \n",
       "\n",
       "                                                  name  start total_votes  \\\n",
       "0    I'm Luffy! The Man Who Will Become the Pirate ...   1999         647   \n",
       "1    The Great Swordsman Appears! Pirate Hunter, Ro...   1999         473   \n",
       "2    Morgan vs. Luffy! Who's This Beautiful Young G...   1999         428   \n",
       "3         Luffy's Past! The Red-haired Shanks Appears!   1999         449   \n",
       "4    Fear, Mysterious Power! Pirate Clown Captain B...   1999         370   \n",
       "..                                                 ...    ...         ...   \n",
       "953                    Its Name is Enma! Oden's Meito!   2020         302   \n",
       "954  &quot;A New Alliance?! Kaido's Army Gathers&quot;   2020         407   \n",
       "955  Ticking Down to the Great Battle! The Straw Ha...   2020         353   \n",
       "956             Big News! The Warlords Attack Incident   2021       2,862   \n",
       "957   &quot;The Legendary Battle! Garp and Roger&quot;   2021         746   \n",
       "\n",
       "     average_rating  \n",
       "0               7.6  \n",
       "1               7.8  \n",
       "2               7.7  \n",
       "3               8.1  \n",
       "4               7.5  \n",
       "..              ...  \n",
       "953             7.7  \n",
       "954             7.4  \n",
       "955             8.2  \n",
       "956             9.1  \n",
       "957             9.4  \n",
       "\n",
       "[958 rows x 8 columns]>"
      ]
     },
     "execution_count": 4,
     "metadata": {},
     "output_type": "execute_result"
    }
   ],
   "source": [
    "df.info"
   ]
  },
  {
   "cell_type": "code",
   "execution_count": 5,
   "id": "a91b88f0-7e2c-4900-928c-b5343176704a",
   "metadata": {
    "tags": []
   },
   "outputs": [
    {
     "data": {
      "text/plain": [
       "rank              0\n",
       "trend             0\n",
       "season            0\n",
       "episode           0\n",
       "name              0\n",
       "start             0\n",
       "total_votes       0\n",
       "average_rating    0\n",
       "dtype: int64"
      ]
     },
     "execution_count": 5,
     "metadata": {},
     "output_type": "execute_result"
    }
   ],
   "source": [
    "df.isnull().sum()"
   ]
  },
  {
   "attachments": {},
   "cell_type": "markdown",
   "id": "f6979d67-e8b0-4433-b38e-668f5dfaca63",
   "metadata": {},
   "source": [
    "### Creating Connections"
   ]
  },
  {
   "cell_type": "code",
   "execution_count": 7,
   "id": "e4153463-c8e2-4ccb-a04e-e18701e715eb",
   "metadata": {
    "tags": []
   },
   "outputs": [
    {
     "name": "stdout",
     "output_type": "stream",
     "text": [
      "True\n"
     ]
    },
    {
     "name": "stderr",
     "output_type": "stream",
     "text": [
      "/home/dristi/anaconda3/envs/tf_37/lib/python3.7/site-packages/elasticsearch/connection/base.py:200: ElasticsearchWarning: Elasticsearch built-in security features are not enabled. Without authentication, your cluster could be accessible to anyone. See https://www.elastic.co/guide/en/elasticsearch/reference/7.17/security-minimal-setup.html to enable security.\n",
      "  warnings.warn(message, category=ElasticsearchWarning)\n"
     ]
    }
   ],
   "source": [
    "es = Elasticsearch('http://localhost:9200')\n",
    "print(es.ping())"
   ]
  },
  {
   "cell_type": "code",
   "execution_count": 8,
   "id": "c7b0e223-3ed8-415b-8993-bc0f367e9d82",
   "metadata": {},
   "outputs": [],
   "source": [
    "def data_generator(df):\n",
    "    for _, row in df.iterrows():\n",
    "        yield {\n",
    "            \"_index\": 'one_piece',\n",
    "            \"_source\": {\n",
    "                \"rank\": row['rank'],\n",
    "                \"trend\": row['trend'],\n",
    "                \"season\":row['season'],\n",
    "                \"episode\":row['episode'],\n",
    "                \"name\":row['name'],\n",
    "                \"start\":row['start'],\n",
    "                \"total_votes\":row['total_votes'],\n",
    "                \"average_rating\":row['average_rating']\n",
    "            }\n",
    "        }"
   ]
  },
  {
   "cell_type": "code",
   "execution_count": 9,
   "id": "f1dba0b6-065c-4f02-823b-c34a69434cd3",
   "metadata": {
    "tags": []
   },
   "outputs": [],
   "source": [
    "# Using the streaming_bulk() helper function to bulk insert the data into Elasticsearch\n",
    "for success, info in streaming_bulk(client=es, actions=data_generator(df)):\n",
    "    if not success:\n",
    "        print('A document failed:', info)"
   ]
  },
  {
   "cell_type": "code",
   "execution_count": 22,
   "id": "4bee2c57-bf4c-4945-a0c3-9bdb0df70e02",
   "metadata": {
    "tags": []
   },
   "outputs": [],
   "source": [
    "def create_indices():\n",
    "    es_client = Elasticsearch('http://localhost:9200', verify_certs=False)\n",
    "    es_client.ping()\n",
    "    config = {\n",
    "        \"mappings\": {\n",
    "                \"properties\": {\n",
    "                    \"rank\" : {\n",
    "                    \"type\": \"text\"\n",
    "                    },\n",
    "                    \"trend\" :{\n",
    "                    \"type\": \"text\"\n",
    "                    },\n",
    "                    \"season\":{\n",
    "                    \"type\": \"text\"\n",
    "                    },\n",
    "                    \"episode\":{\n",
    "                    \"type\": \"text\"\n",
    "                    },\n",
    "                    \"name\":{\n",
    "                    \"type\": \"text\"\n",
    "                    },\n",
    "                    \"start\":{\n",
    "                    \"type\": \"text\"\n",
    "                    },\n",
    "                    \"total_votes\":{\n",
    "                    \"type\": \"text\"\n",
    "                    }, \n",
    "                    \"average_rating\":{\n",
    "                    \"type\": \"text\"\n",
    "                    }\n",
    "                }\n",
    "        },\n",
    "        \"settings\": {\n",
    "            \"number_of_shards\": 2,\n",
    "            \"number_of_replicas\": 1\n",
    "        }\n",
    "    }\n",
    "\n",
    "    es_client.indices.create(\n",
    "        index=\"one_piece\",\n",
    "        settings=config[\"settings\"],\n",
    "        mappings=config[\"mappings\"],\n",
    "    )\n",
    "    #Loading Excel File\n",
    "    def reco_data_generator(df):\n",
    "        for _, row in df.iterrows():\n",
    "            yield {\n",
    "            \"_index\": 'one_piece',\n",
    "            \"_source\": {\n",
    "                \"rank\": row['rank'],\n",
    "                \"trend\": row['trend'],\n",
    "                \"season\":row['season'],\n",
    "                \"episode\":row['episode'],\n",
    "                \"name\":row['name'],\n",
    "                \"start\":row['start'],\n",
    "                \"total_votes\":row['total_votes'],\n",
    "                \"average_rating\":row['average_rating']\n",
    "            }\n",
    "            }\n",
    "    # Using the streaming_bulk() helper function to bulk insert the data into Elasticsearch\n",
    "    for success, info in streaming_bulk(client=es_client, actions=reco_data_generator(df)):\n",
    "        if not success:\n",
    "            print('A document failed:', info)"
   ]
  },
  {
   "cell_type": "code",
   "execution_count": 23,
   "id": "43612076-d775-4c23-9fdc-12346ac7bf98",
   "metadata": {
    "tags": []
   },
   "outputs": [
    {
     "name": "stderr",
     "output_type": "stream",
     "text": [
      "/home/dristi/anaconda3/envs/tf_37/lib/python3.7/site-packages/ipykernel_launcher.py:3: ElasticsearchWarning: Elasticsearch built-in security features are not enabled. Without authentication, your cluster could be accessible to anyone. See https://www.elastic.co/guide/en/elasticsearch/reference/7.17/security-minimal-setup.html to enable security.\n",
      "  This is separate from the ipykernel package so we can avoid doing imports until\n",
      "/home/dristi/anaconda3/envs/tf_37/lib/python3.7/site-packages/ipykernel_launcher.py:42: ElasticsearchWarning: Elasticsearch built-in security features are not enabled. Without authentication, your cluster could be accessible to anyone. See https://www.elastic.co/guide/en/elasticsearch/reference/7.17/security-minimal-setup.html to enable security.\n",
      "/home/dristi/anaconda3/envs/tf_37/lib/python3.7/site-packages/ipykernel_launcher.py:61: ElasticsearchWarning: Elasticsearch built-in security features are not enabled. Without authentication, your cluster could be accessible to anyone. See https://www.elastic.co/guide/en/elasticsearch/reference/7.17/security-minimal-setup.html to enable security.\n"
     ]
    }
   ],
   "source": [
    "create_indices()"
   ]
  },
  {
   "cell_type": "code",
   "execution_count": null,
   "id": "0c3835d8-6634-4bc2-abd0-5cc7651beb99",
   "metadata": {},
   "outputs": [],
   "source": []
  }
 ],
 "metadata": {
  "kernelspec": {
   "display_name": "Python 3 (ipykernel)",
   "language": "python",
   "name": "python3"
  },
  "language_info": {
   "codemirror_mode": {
    "name": "ipython",
    "version": 3
   },
   "file_extension": ".py",
   "mimetype": "text/x-python",
   "name": "python",
   "nbconvert_exporter": "python",
   "pygments_lexer": "ipython3",
   "version": "3.8.0"
  }
 },
 "nbformat": 4,
 "nbformat_minor": 5
}
